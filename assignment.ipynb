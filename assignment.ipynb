{
 "cells": [
  {
   "cell_type": "code",
   "execution_count": null,
   "metadata": {},
   "outputs": [],
   "source": [
    "# What are the characteristics of the tuples? Is tuple immutable?\n",
    "\n",
    "# Indexed Ordered immutable duplicate.\n",
    "#Yes thay are immutable as they can't be interefered with."
   ]
  },
  {
   "cell_type": "code",
   "execution_count": 24,
   "metadata": {},
   "outputs": [
    {
     "name": "stdout",
     "output_type": "stream",
     "text": [
      "1\n",
      "1\n",
      "1\n",
      "1\n",
      "1\n",
      "1\n",
      "2\n",
      "2\n",
      "1\n",
      "0\n",
      "1\n",
      "2\n",
      "3\n",
      "4\n",
      "5\n",
      "6\n",
      "6\n",
      "8\n"
     ]
    }
   ],
   "source": [
    "# Q2. What are the two tuple methods in python? Give an example of each method. Give a reason why\n",
    "# tuples have only two in-built methods as compared to Lists\n",
    "\n",
    "#Tuple Methods of Python:\n",
    "# count()  index() method\n",
    "\n",
    "t=(1,2,3,4,45,5,6,6,7)\n",
    "# print(t.count(6))\n",
    "\n",
    "for items in t:\n",
    "    print(t.count(items))\n",
    "\n",
    "for items in t:\n",
    "    print(t.index(items))    "
   ]
  },
  {
   "cell_type": "code",
   "execution_count": 2,
   "metadata": {},
   "outputs": [
    {
     "name": "stdout",
     "output_type": "stream",
     "text": [
      "32\n",
      "[1, 2, 3, 4]\n",
      "[1, 2, 3, 4]\n"
     ]
    }
   ],
   "source": [
    "# Remove Duplicates in a List\n",
    "List = [1, 1, 1, 2, 1, 3, 1, 4, 2, 1, 2, 2, 2, 3, 2, 4, 3, 1, 3, 2, 3, 3, 3, 4, 4, 1, 4, 2, 4, 3, 4, 4]\n",
    "print(len(List))\n",
    "st={List[0]}\n",
    "\n",
    "for i in List:\n",
    "    st.add(i)\n",
    "\n",
    "List.clear()\n",
    "\n",
    "for items in st:\n",
    "    List.append(items)  \n",
    "\n",
    "print(List)    \n",
    "\n",
    "\n",
    "#Approach 2:\n",
    "numberList = [1, 1, 1, 2, 1, 3, 1, 4, 2, 1, 2, 2, 2, 3, 2, 4, 3, 1, 3, 2, 3, 3, 3, 4, 4, 1, 4, 2, 4, 3, 4, 4]\n",
    "\n",
    "numberSet = list(set(numberList))\n",
    "\n",
    "print(numberSet)"
   ]
  },
  {
   "attachments": {},
   "cell_type": "markdown",
   "metadata": {},
   "source": [
    "#### Q4. Explain the difference between the union() and update() methods for a set. Give an example of each method.\n",
    "\n",
    "##### Union:  Finds Union between two sets\n",
    "##### Update : Updates the set with other set\n"
   ]
  },
  {
   "cell_type": "code",
   "execution_count": 41,
   "metadata": {},
   "outputs": [
    {
     "name": "stdout",
     "output_type": "stream",
     "text": [
      "{1, 2, 3, 4, 5, 6, 7, 8, 9, 10}\n",
      "{33, 100, 4, 1223, 455, 23, 56, 122}\n"
     ]
    }
   ],
   "source": [
    "\n",
    "set1={1,2,3,4,5,6}\n",
    "set2={3,6,7,8,9,10}\n",
    "\n",
    "set1=set2.union(set1)\n",
    "print(set1)\n",
    "\n",
    "set3={33,23,23,4,56}\n",
    "set4={100,122,1223,122,455}\n",
    "set4.update(set3)\n",
    "print(set4)"
   ]
  },
  {
   "cell_type": "code",
   "execution_count": null,
   "metadata": {},
   "outputs": [],
   "source": [
    "# Q5. What is a dictionary? Give an example. Also, state whether a dictionary is ordered or unordered.\n",
    "\n",
    "## Dictionary is a data structure which contain key-value pairs. It is ordered\n",
    "## Dictionary is ordered"
   ]
  },
  {
   "cell_type": "code",
   "execution_count": 18,
   "metadata": {},
   "outputs": [
    {
     "name": "stdout",
     "output_type": "stream",
     "text": [
      "{'key': {'name': 'Samadeep', 'Age': '20'}}\n"
     ]
    }
   ],
   "source": [
    "# Q6. Can we create a nested dictionary? If so, please give an example by creating a simple one-level\n",
    "# nested dictionary.\n",
    "\n",
    "# Yes.\n",
    "\n",
    "dictionary={\"key\":{\"name\":\"Samadeep\",\"Age\":\"20\"}} ## Dictionary inside a Dictionary.\n",
    "print(dictionary)"
   ]
  },
  {
   "cell_type": "code",
   "execution_count": 17,
   "metadata": {},
   "outputs": [
    {
     "name": "stdout",
     "output_type": "stream",
     "text": [
      "dict_keys(['Topics'])\n",
      "dict_items([('Topics', ['Python', 'Machine Learning', 'Deep Learning'])])\n",
      "<class 'dict_items'>\n",
      "['Python', 'Machine Learning', 'Deep Learning']\n",
      "Python\n",
      "Machine Learning\n",
      "Deep Learning\n"
     ]
    }
   ],
   "source": [
    "# Q7. Using setdefault() method, create key named topics in the given dictionary and also add the value of\n",
    "# the key as this list ['Python', 'Machine Learning’, 'Deep Learning']\n",
    "\n",
    "list1=['Python', 'Machine Learning' , 'Deep Learning']\n",
    "dictionary={\"Topics\": list1}\n",
    "print(dictionary.keys())\n",
    "\n",
    "print(dictionary.items())\n",
    "\n",
    "print(type(dictionary.items()))\n",
    "print(dictionary[\"Topics\"])\n",
    "\n",
    "for items in dictionary[\"Topics\"]:\n",
    "    print(items)"
   ]
  },
  {
   "cell_type": "code",
   "execution_count": null,
   "metadata": {},
   "outputs": [],
   "source": [
    "dict1 = {'language' : 'Python', 'course': 'Data Science Masters'}"
   ]
  },
  {
   "cell_type": "code",
   "execution_count": 7,
   "metadata": {},
   "outputs": [
    {
     "name": "stdout",
     "output_type": "stream",
     "text": [
      "dict_keys(['Sport', 'Teams'])\n",
      "dict_values(['Cricket', ['India', 'Australia', 'England', 'South Africa', 'Sri Lanka', 'New Zealand']])\n",
      "dict_items([('Sport', 'Cricket'), ('Teams', ['India', 'Australia', 'England', 'South Africa', 'Sri Lanka', 'New Zealand'])])\n"
     ]
    }
   ],
   "source": [
    "# Q8. What are the three view objects in dictionaries? Use the three in-built methods in python to display\n",
    "# these three view objects for the given dictionary.\n",
    "\n",
    "# Keys Values Items\n",
    "\n",
    "dict1 = {'Sport': 'Cricket' , 'Teams': ['India', 'Australia', 'England', 'South Africa', 'Sri Lanka', 'New Zealand']}\n",
    "\n",
    "print(dict1.keys())\n",
    "\n",
    "print(dict1.values())\n",
    "\n",
    "print(dict1.items())\n"
   ]
  }
 ],
 "metadata": {
  "kernelspec": {
   "display_name": "Python 3",
   "language": "python",
   "name": "python3"
  },
  "language_info": {
   "codemirror_mode": {
    "name": "ipython",
    "version": 3
   },
   "file_extension": ".py",
   "mimetype": "text/x-python",
   "name": "python",
   "nbconvert_exporter": "python",
   "pygments_lexer": "ipython3",
   "version": "3.10.5"
  },
  "orig_nbformat": 4,
  "vscode": {
   "interpreter": {
    "hash": "aee8b7b246df8f9039afb4144a1f6fd8d2ca17a180786b69acc140d282b71a49"
   }
  }
 },
 "nbformat": 4,
 "nbformat_minor": 2
}
